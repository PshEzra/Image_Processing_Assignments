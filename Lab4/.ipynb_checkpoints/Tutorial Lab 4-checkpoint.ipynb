{
 "cells": [
  {
   "cell_type": "markdown",
   "metadata": {
    "id": "xTq2mdrbN52w"
   },
   "source": [
    "# **Tutorial Lab 4 - Morphological Image Processing**\n",
    "\n",
    "Pengolahan Citra - Gasal 2023/2024\n",
    "\n",
    "---"
   ]
  },
  {
   "cell_type": "code",
   "execution_count": null,
   "metadata": {
    "executionInfo": {
     "elapsed": 5,
     "status": "ok",
     "timestamp": 1698157276936,
     "user": {
      "displayName": "Luthfi Balaka",
      "userId": "17563642752439424669"
     },
     "user_tz": -420
    },
    "id": "cNhAgzgOOySs"
   },
   "outputs": [],
   "source": [
    "# Import packages\n",
    "from skimage import io, color\n",
    "from skimage.morphology import disk, square, diamond, dilation, erosion, closing, opening, black_tophat, white_tophat\n",
    "import matplotlib.pyplot as plt"
   ]
  },
  {
   "cell_type": "code",
   "execution_count": null,
   "metadata": {
    "colab": {
     "base_uri": "https://localhost:8080/"
    },
    "executionInfo": {
     "elapsed": 9218,
     "status": "ok",
     "timestamp": 1698157286150,
     "user": {
      "displayName": "Luthfi Balaka",
      "userId": "17563642752439424669"
     },
     "user_tz": -420
    },
    "id": "R7VCfUF7-dGr",
    "outputId": "5452c1ca-98c8-4dfd-f8f2-8511b2352e20"
   },
   "outputs": [],
   "source": [
    "# Unduh citra\n",
    "!gdown \"1P_trEvHwFCF6u_m3LFGzgKVZK3MfOO0v\"\n",
    "!gdown \"1HNzJIdp1eQe-cVOU-vniBBtKMKBRnmvJ\"\n",
    "!gdown \"1Z7_h94iG-zhdCOyluyciwwUXlx9UUnGT\"\n",
    "!gdown \"1kww7_RoHGM1UktqTIk2hwhc8eYpu8hbI\"\n",
    "!gdown \"1pJ7VvlqfiC9xKxgyhZhk7YBsov6wtOJr\""
   ]
  },
  {
   "cell_type": "markdown",
   "metadata": {
    "id": "8nHT5FzQ2mLY"
   },
   "source": [
    "# Erosion"
   ]
  },
  {
   "cell_type": "code",
   "execution_count": null,
   "metadata": {
    "colab": {
     "base_uri": "https://localhost:8080/",
     "height": 303
    },
    "executionInfo": {
     "elapsed": 1417,
     "status": "ok",
     "timestamp": 1698157287563,
     "user": {
      "displayName": "Luthfi Balaka",
      "userId": "17563642752439424669"
     },
     "user_tz": -420
    },
    "id": "it4SLIZeCA8d",
    "outputId": "df32d84a-60e8-4f2a-fb46-0462aab8e483"
   },
   "outputs": [],
   "source": [
    "octagon = color.rgb2gray(io.imread(\"octagon.jpg\"))\n",
    "\n",
    "# Anda bisa ubah bentuk strel, silakan baca dokumentasi skimage.morphology\n",
    "strels = {\n",
    "    \"Disk\": disk(10),\n",
    "    \"Diamond\": diamond(10),\n",
    "    \"Square\": square(10)\n",
    "}\n",
    "\n",
    "plt.figure(figsize=(15,5))\n",
    "plt.subplot(1,4,1)\n",
    "plt.title('Original Octagon')\n",
    "plt.imshow(octagon, cmap='gray')\n",
    "plt.axis('off')\n",
    "\n",
    "plot_counter = 1\n",
    "for shape, strel in strels.items():\n",
    "  eroded_octagon = erosion(octagon, strel)\n",
    "  plt.subplot(1,4,1+plot_counter)\n",
    "  plt.title(f'Eroded Octagon with {shape} Strel')\n",
    "  plt.imshow(eroded_octagon, cmap='gray')\n",
    "  plt.axis('off')\n",
    "  plot_counter += 1\n",
    "plt.show()"
   ]
  },
  {
   "cell_type": "markdown",
   "metadata": {
    "id": "CsqyHr53PufA"
   },
   "source": [
    "# Dilation"
   ]
  },
  {
   "cell_type": "code",
   "execution_count": null,
   "metadata": {
    "colab": {
     "base_uri": "https://localhost:8080/",
     "height": 302
    },
    "executionInfo": {
     "elapsed": 1520,
     "status": "ok",
     "timestamp": 1698157289078,
     "user": {
      "displayName": "Luthfi Balaka",
      "userId": "17563642752439424669"
     },
     "user_tz": -420
    },
    "id": "MoxeVoqJy6kA",
    "outputId": "9046371c-6555-48c1-e394-d7e49c62247a"
   },
   "outputs": [],
   "source": [
    "octagon = color.rgb2gray(io.imread(\"octagon.jpg\"))\n",
    "\n",
    "# Anda bisa ubah bentuk strel, silakan baca dokumentasi skimage.morphology\n",
    "strels = {\n",
    "    \"Disk\": disk(10),\n",
    "    \"Diamond\": diamond(10),\n",
    "    \"Square\": square(10)\n",
    "}\n",
    "\n",
    "plt.figure(figsize=(15,5))\n",
    "plt.subplot(1,4,1)\n",
    "plt.title('Original Octagon')\n",
    "plt.imshow(octagon, cmap='gray')\n",
    "plt.axis('off')\n",
    "\n",
    "plot_counter = 1\n",
    "for shape, strel in strels.items():\n",
    "  dilated_octagon = dilation(octagon, strel)\n",
    "  plt.subplot(1,4,1+plot_counter)\n",
    "  plt.title(f'Dilated Octagon with {shape} Strel')\n",
    "  plt.imshow(dilated_octagon, cmap='gray')\n",
    "  plt.axis('off')\n",
    "  plot_counter += 1\n",
    "plt.show()"
   ]
  },
  {
   "cell_type": "markdown",
   "metadata": {
    "id": "Lvmm12GZ-Ce7"
   },
   "source": [
    "# Opening"
   ]
  },
  {
   "cell_type": "code",
   "execution_count": null,
   "metadata": {
    "colab": {
     "base_uri": "https://localhost:8080/",
     "height": 305
    },
    "executionInfo": {
     "elapsed": 1667,
     "status": "ok",
     "timestamp": 1698157290738,
     "user": {
      "displayName": "Luthfi Balaka",
      "userId": "17563642752439424669"
     },
     "user_tz": -420
    },
    "id": "BoPH9uJg-Fmq",
    "outputId": "5477b6ea-e766-485a-fed2-231911114ab0"
   },
   "outputs": [],
   "source": [
    "hexagon = color.rgb2gray(io.imread('hexagon.jpg'))\n",
    "strel = disk(3)\n",
    "opened_hexagon = opening(hexagon, strel)\n",
    "\n",
    "plt.figure(figsize=(7,5))\n",
    "plt.subplot(1,2,1)\n",
    "plt.title('Original Hexagon')\n",
    "plt.imshow(hexagon, cmap='gray')\n",
    "plt.axis('off')\n",
    "plt.subplot(1,2,2)\n",
    "plt.title('Opening Operation Result')\n",
    "plt.imshow(opened_hexagon, cmap='gray')\n",
    "plt.axis('off')\n",
    "plt.show()"
   ]
  },
  {
   "cell_type": "markdown",
   "metadata": {
    "id": "dDUaHmVx_JOq"
   },
   "source": [
    "# Closing"
   ]
  },
  {
   "cell_type": "code",
   "execution_count": null,
   "metadata": {
    "colab": {
     "base_uri": "https://localhost:8080/",
     "height": 411
    },
    "executionInfo": {
     "elapsed": 9,
     "status": "ok",
     "timestamp": 1698157290739,
     "user": {
      "displayName": "Luthfi Balaka",
      "userId": "17563642752439424669"
     },
     "user_tz": -420
    },
    "id": "DeSKohc4_JOq",
    "outputId": "f4e953db-594d-4924-f5fd-2cab05c2ecb8"
   },
   "outputs": [],
   "source": [
    "star = color.rgb2gray((io.imread('star.jpg')))\n",
    "strel = disk(7)\n",
    "closed_star = closing(star, strel)\n",
    "\n",
    "plt.figure(figsize=(10,5))\n",
    "plt.subplot(1,2,1)\n",
    "plt.title('Original Star')\n",
    "plt.imshow(star, cmap='gray')\n",
    "plt.axis('off')\n",
    "plt.subplot(1,2,2)\n",
    "plt.title('Closing Operation Result')\n",
    "plt.imshow(closed_star, cmap='gray')\n",
    "plt.axis('off')\n",
    "plt.show()"
   ]
  },
  {
   "cell_type": "markdown",
   "metadata": {
    "id": "XoqoVCYTLwn6"
   },
   "source": [
    "## Top-hat filter"
   ]
  },
  {
   "cell_type": "code",
   "execution_count": null,
   "metadata": {
    "colab": {
     "base_uri": "https://localhost:8080/",
     "height": 341
    },
    "executionInfo": {
     "elapsed": 3590,
     "status": "ok",
     "timestamp": 1698157294322,
     "user": {
      "displayName": "Luthfi Balaka",
      "userId": "17563642752439424669"
     },
     "user_tz": -420
    },
    "id": "-dqbz-SuLwoA",
    "outputId": "c754f832-f8b8-42dc-ddc6-988eaef892d2"
   },
   "outputs": [],
   "source": [
    "cosmos = color.rgb2gray(io.imread('cosmos.jpg'))\n",
    "\n",
    "strel = disk(20)\n",
    "res = white_tophat(cosmos, strel)\n",
    "\n",
    "# Show image\n",
    "plt.figure(figsize=(20,10))\n",
    "plt.subplot(1,2,1)\n",
    "plt.title('Original Cosmos')\n",
    "plt.imshow(cosmos, cmap='gray')\n",
    "plt.axis('off')\n",
    "plt.subplot(1,2,2)\n",
    "plt.title('Top-Hat Filter Results')\n",
    "plt.imshow(res, cmap='gray')\n",
    "plt.axis('off')\n",
    "plt.show()"
   ]
  },
  {
   "cell_type": "markdown",
   "metadata": {
    "id": "u--VeeVfKI_g"
   },
   "source": [
    "## Bottom-hat filter"
   ]
  },
  {
   "cell_type": "code",
   "execution_count": null,
   "metadata": {
    "colab": {
     "base_uri": "https://localhost:8080/",
     "height": 346
    },
    "executionInfo": {
     "elapsed": 9112,
     "status": "ok",
     "timestamp": 1698157378027,
     "user": {
      "displayName": "Luthfi Balaka",
      "userId": "17563642752439424669"
     },
     "user_tz": -420
    },
    "id": "DCZuOXsVKi2A",
    "outputId": "d9f2bdb5-015d-4000-8f64-3a84a413a702"
   },
   "outputs": [],
   "source": [
    "cells = color.rgb2gray(io.imread('cells.jpg'))\n",
    "\n",
    "strel = disk(20)\n",
    "res = black_tophat(cells, strel)\n",
    "\n",
    "# Show image\n",
    "plt.figure(figsize=(20,10))\n",
    "plt.subplot(1,2,1)\n",
    "plt.title('Original Cells')\n",
    "plt.imshow(cells, cmap='gray')\n",
    "plt.axis('off')\n",
    "plt.subplot(1,2,2)\n",
    "plt.title('Bottom-Hat Filter Results')\n",
    "plt.imshow(res, cmap='gray')\n",
    "plt.axis('off')\n",
    "plt.show()"
   ]
  }
 ],
 "metadata": {
  "colab": {
   "provenance": [
    {
     "file_id": "1z3-d0t-Tquenq-W6RtBz4qCWmHJCNVMk",
     "timestamp": 1698113472835
    }
   ]
  },
  "kernelspec": {
   "display_name": "Python 3 (ipykernel)",
   "language": "python",
   "name": "python3"
  },
  "language_info": {
   "codemirror_mode": {
    "name": "ipython",
    "version": 3
   },
   "file_extension": ".py",
   "mimetype": "text/x-python",
   "name": "python",
   "nbconvert_exporter": "python",
   "pygments_lexer": "ipython3",
   "version": "3.9.12"
  }
 },
 "nbformat": 4,
 "nbformat_minor": 1
}
